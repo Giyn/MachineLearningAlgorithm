{
 "cells": [
  {
   "cell_type": "markdown",
   "metadata": {},
   "source": [
    "## 相关设置"
   ]
  },
  {
   "cell_type": "code",
   "execution_count": 1,
   "metadata": {
    "ExecuteTime": {
     "end_time": "2020-04-24T08:11:46.404164Z",
     "start_time": "2020-04-24T08:11:45.855197Z"
    }
   },
   "outputs": [],
   "source": [
    "from IPython.core.interactiveshell import InteractiveShell\n",
    "InteractiveShell.ast_node_interactivity = \"all\" # 一个cell显示多输出\n",
    "\n",
    "import pandas as pd\n",
    "pd.set_option('display.max_rows', 400) # 设置最大显示400行\n",
    "pd.set_option('display.max_columns', 400) # 设置最大显示400列"
   ]
  },
  {
   "cell_type": "markdown",
   "metadata": {},
   "source": [
    "## 读取数据"
   ]
  },
  {
   "cell_type": "code",
   "execution_count": 2,
   "metadata": {
    "ExecuteTime": {
     "end_time": "2020-04-24T08:11:48.289998Z",
     "start_time": "2020-04-24T08:11:48.215860Z"
    }
   },
   "outputs": [],
   "source": [
    "import pandas as pd\n",
    "import numpy as np\n",
    "\n",
    "data = pd.read_csv(\"adult.csv\", sep=\"\\s+\", header=None, names=[\"age\",\"workclass\", \"fnlwgt\", \"education\", \"education_num\", \"maritial_status\",\n",
    "                                                               \"occupation\", \"relationship\", \"race\", \"sex\", \"capital_gain\", \"capital_loss\",\n",
    "                                                               \"hours_per_week\", \"native_country\", \"income\"])"
   ]
  },
  {
   "cell_type": "markdown",
   "metadata": {},
   "source": [
    "## 数据预处理"
   ]
  },
  {
   "cell_type": "code",
   "execution_count": 11,
   "metadata": {
    "ExecuteTime": {
     "end_time": "2020-04-24T08:17:13.251057Z",
     "start_time": "2020-04-24T08:17:13.124759Z"
    },
    "scrolled": true
   },
   "outputs": [
    {
     "data": {
      "text/html": [
       "<div>\n",
       "<style scoped>\n",
       "    .dataframe tbody tr th:only-of-type {\n",
       "        vertical-align: middle;\n",
       "    }\n",
       "\n",
       "    .dataframe tbody tr th {\n",
       "        vertical-align: top;\n",
       "    }\n",
       "\n",
       "    .dataframe thead th {\n",
       "        text-align: right;\n",
       "    }\n",
       "</style>\n",
       "<table border=\"1\" class=\"dataframe\">\n",
       "  <thead>\n",
       "    <tr style=\"text-align: right;\">\n",
       "      <th></th>\n",
       "      <th>age</th>\n",
       "      <th>workclass</th>\n",
       "      <th>fnlwgt</th>\n",
       "      <th>education</th>\n",
       "      <th>education_num</th>\n",
       "      <th>maritial_status</th>\n",
       "      <th>occupation</th>\n",
       "      <th>relationship</th>\n",
       "      <th>race</th>\n",
       "      <th>sex</th>\n",
       "      <th>capital_gain</th>\n",
       "      <th>capital_loss</th>\n",
       "      <th>hours_per_week</th>\n",
       "      <th>native_country</th>\n",
       "      <th>income</th>\n",
       "    </tr>\n",
       "  </thead>\n",
       "  <tbody>\n",
       "    <tr>\n",
       "      <td>count</td>\n",
       "      <td>32561</td>\n",
       "      <td>32561</td>\n",
       "      <td>32561</td>\n",
       "      <td>32561</td>\n",
       "      <td>32561</td>\n",
       "      <td>32561</td>\n",
       "      <td>32561</td>\n",
       "      <td>32561</td>\n",
       "      <td>32561</td>\n",
       "      <td>32561</td>\n",
       "      <td>32561</td>\n",
       "      <td>32561</td>\n",
       "      <td>32561</td>\n",
       "      <td>32561</td>\n",
       "      <td>32561</td>\n",
       "    </tr>\n",
       "    <tr>\n",
       "      <td>unique</td>\n",
       "      <td>73</td>\n",
       "      <td>9</td>\n",
       "      <td>21648</td>\n",
       "      <td>16</td>\n",
       "      <td>16</td>\n",
       "      <td>7</td>\n",
       "      <td>15</td>\n",
       "      <td>6</td>\n",
       "      <td>5</td>\n",
       "      <td>2</td>\n",
       "      <td>119</td>\n",
       "      <td>92</td>\n",
       "      <td>94</td>\n",
       "      <td>42</td>\n",
       "      <td>2</td>\n",
       "    </tr>\n",
       "    <tr>\n",
       "      <td>top</td>\n",
       "      <td>36,</td>\n",
       "      <td>Private,</td>\n",
       "      <td>203488,</td>\n",
       "      <td>HS-grad,</td>\n",
       "      <td>9,</td>\n",
       "      <td>Married-civ-spouse,</td>\n",
       "      <td>Prof-specialty,</td>\n",
       "      <td>Husband,</td>\n",
       "      <td>White,</td>\n",
       "      <td>Male,</td>\n",
       "      <td>0,</td>\n",
       "      <td>0,</td>\n",
       "      <td>40,</td>\n",
       "      <td>United-States,</td>\n",
       "      <td>0</td>\n",
       "    </tr>\n",
       "    <tr>\n",
       "      <td>freq</td>\n",
       "      <td>898</td>\n",
       "      <td>22696</td>\n",
       "      <td>13</td>\n",
       "      <td>10501</td>\n",
       "      <td>10501</td>\n",
       "      <td>14976</td>\n",
       "      <td>4140</td>\n",
       "      <td>13193</td>\n",
       "      <td>27816</td>\n",
       "      <td>21790</td>\n",
       "      <td>29849</td>\n",
       "      <td>31042</td>\n",
       "      <td>15217</td>\n",
       "      <td>29170</td>\n",
       "      <td>24720</td>\n",
       "    </tr>\n",
       "  </tbody>\n",
       "</table>\n",
       "</div>"
      ],
      "text/plain": [
       "          age workclass   fnlwgt education education_num      maritial_status  \\\n",
       "count   32561     32561    32561     32561         32561                32561   \n",
       "unique     73         9    21648        16            16                    7   \n",
       "top       36,  Private,  203488,  HS-grad,            9,  Married-civ-spouse,   \n",
       "freq      898     22696       13     10501         10501                14976   \n",
       "\n",
       "             occupation relationship    race    sex capital_gain capital_loss  \\\n",
       "count             32561        32561   32561  32561        32561        32561   \n",
       "unique               15            6       5      2          119           92   \n",
       "top     Prof-specialty,     Husband,  White,  Male,           0,           0,   \n",
       "freq               4140        13193   27816  21790        29849        31042   \n",
       "\n",
       "       hours_per_week  native_country  income  \n",
       "count           32561           32561   32561  \n",
       "unique             94              42       2  \n",
       "top               40,  United-States,       0  \n",
       "freq            15217           29170   24720  "
      ]
     },
     "execution_count": 11,
     "metadata": {},
     "output_type": "execute_result"
    }
   ],
   "source": [
    "data = data.dropna(how='all') # 清除全为空的数据\n",
    "# data.head()\n",
    "\n",
    "data.loc[data['income'] == '>50K', 'income'] = 1\n",
    "data.loc[data['income'] == '>50K.', 'income'] = 1\n",
    "data.loc[data['income'] == '<=50K', 'income'] = 0\n",
    "data.loc[data['income'] == '<=50K.', 'income'] = 0\n",
    "\n",
    "data.describe()"
   ]
  },
  {
   "cell_type": "markdown",
   "metadata": {},
   "source": [
    "## 特征工程有点复杂，时间不太够了"
   ]
  }
 ],
 "metadata": {
  "kernelspec": {
   "display_name": "Python 3",
   "language": "python",
   "name": "python3"
  },
  "language_info": {
   "codemirror_mode": {
    "name": "ipython",
    "version": 3
   },
   "file_extension": ".py",
   "mimetype": "text/x-python",
   "name": "python",
   "nbconvert_exporter": "python",
   "pygments_lexer": "ipython3",
   "version": "3.7.4"
  }
 },
 "nbformat": 4,
 "nbformat_minor": 2
}
