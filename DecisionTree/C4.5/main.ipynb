{
 "cells": [
  {
   "cell_type": "code",
   "execution_count": 9,
   "metadata": {
    "ExecuteTime": {
     "end_time": "2020-05-10T04:00:59.070282Z",
     "start_time": "2020-05-10T04:00:59.039192Z"
    }
   },
   "outputs": [
    {
     "name": "stdout",
     "output_type": "stream",
     "text": [
      "petal width <= 0.8 : Iris-setosa\n",
      "petal width > 0.8 : \n",
      "\tpetal length <= 4.75 : \n",
      "\t\tsepal length <= 4.95 : \n",
      "\t\t\tsepal width <= 2.45 : Iris-versicolor\n",
      "\t\t\tsepal width > 2.45 : Iris-virginica\n",
      "\t\tsepal length > 4.95 : Iris-versicolor\n",
      "\tpetal length > 4.75 : \n",
      "\t\tsepal length <= 7.0 : \n",
      "\t\t\tsepal width <= 3.25 : Iris-virginica\n",
      "\t\t\tsepal width > 3.25 : Iris-virginica\n",
      "\t\tsepal length > 7.0 : Iris-virginica\n"
     ]
    }
   ],
   "source": [
    "# -*- coding: utf-8 -*-\n",
    "\"\"\"\n",
    "Created on Sat Jul 18 20:08:04 2020\n",
    "\n",
    "@author: Giyn\n",
    "\"\"\"\n",
    "\n",
    "import pdb\n",
    "from C45 import C45\n",
    "\n",
    "if __name__ == \"__main__\":\n",
    "    c1 = C45(\"iris.data\", \"iris.names\")\n",
    "    c1.fetchData()\n",
    "    c1.preprocessData()\n",
    "    c1.generateTree()\n",
    "    c1.printTree()"
   ]
  }
 ],
 "metadata": {
  "kernelspec": {
   "display_name": "Python 3",
   "language": "python",
   "name": "python3"
  },
  "language_info": {
   "codemirror_mode": {
    "name": "ipython",
    "version": 3
   },
   "file_extension": ".py",
   "mimetype": "text/x-python",
   "name": "python",
   "nbconvert_exporter": "python",
   "pygments_lexer": "ipython3",
   "version": "3.7.7"
  }
 },
 "nbformat": 4,
 "nbformat_minor": 4
}
