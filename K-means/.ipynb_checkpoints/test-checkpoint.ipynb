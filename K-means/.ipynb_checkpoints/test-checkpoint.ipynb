{
 "cells": [
  {
   "cell_type": "code",
   "execution_count": 70,
   "metadata": {
    "ExecuteTime": {
     "end_time": "2020-04-21T17:11:17.623123Z",
     "start_time": "2020-04-21T17:11:17.130886Z"
    },
    "scrolled": true
   },
   "outputs": [
    {
     "name": "stdout",
     "output_type": "stream",
     "text": [
      "误差平方和为:  53.58462545405998\n"
     ]
    },
    {
     "data": {
      "image/png": "[encoded data removed]",
      "text/plain": [
       "<Figure size 432x288 with 1 Axes>"
      ]
     },
     "metadata": {
      "needs_background": "light"
     },
     "output_type": "display_data"
    }
   ],
   "source": [
    "import pandas as pd\n",
    "import numpy as np\n",
    "from Kmeans import KMeansClassifier\n",
    "import matplotlib.pyplot as plt\n",
    "import seaborn as sns\n",
    "\n",
    "if __name__==\"__main__\":\n",
    "    data_X = pd.read_csv(r\"iris.csv\")\n",
    "    data_X = data_X.drop(data_X.columns[4], axis=1)\n",
    "    data_X = np.array(data_X)\n",
    "    # print(data_X)\n",
    "    k = 3 # 中心点数\n",
    "    clf = KMeansClassifier(k) # 实例化KMeansClassifier类\n",
    "    clf.fit(data_X) # 训练模型\n",
    "    cents = clf._centroids\n",
    "    labels = clf._labels\n",
    "    sse = clf._sse\n",
    "    colors = ['b','g','r','k','c','m','y','#e24fff','#524C90','#845868']\n",
    "    for i in range(k):\n",
    "        index = np.nonzero(labels==i)[0]\n",
    "        # print(index)\n",
    "        x0 = data_X[index, 0]\n",
    "        x1 = data_X[index, 1]\n",
    "        y_i = i\n",
    "        for j in range(len(x0)):\n",
    "            plt.text(x0[j], x1[j], str(y_i), color=colors[i], fontdict={'weight': 'bold', 'size': 10})\n",
    "        plt.scatter(cents[i,0], cents[i,1], marker='x', color=colors[i], linewidths=7)\n",
    "    \n",
    "    # plt.title(\"SSE={:.2f}\".format(sse))\n",
    "    print(\"误差平方和为: \", sse)\n",
    "    plt.axis([4,8.5,1.5,5])\n",
    "    outname = \"./Kmeans\" + \".png\"\n",
    "    plt.savefig(outname)\n",
    "    plt.show()"
   ]
  }
 ],
 "metadata": {
  "kernelspec": {
   "display_name": "Python 3",
   "language": "python",
   "name": "python3"
  },
  "language_info": {
   "codemirror_mode": {
    "name": "ipython",
    "version": 3
   },
   "file_extension": ".py",
   "mimetype": "text/x-python",
   "name": "python",
   "nbconvert_exporter": "python",
   "pygments_lexer": "ipython3",
   "version": "3.7.4"
  }
 },
 "nbformat": 4,
 "nbformat_minor": 2
}
