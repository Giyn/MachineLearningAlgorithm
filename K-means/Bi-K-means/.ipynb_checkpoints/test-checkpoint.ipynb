{
 "cells": [
  {
   "cell_type": "code",
   "execution_count": 9,
   "metadata": {
    "ExecuteTime": {
     "end_time": "2020-04-24T09:32:33.955592Z",
     "start_time": "2020-04-24T09:32:33.944576Z"
    }
   },
   "outputs": [
    {
     "ename": "IndentationError",
     "evalue": "unindent does not match any outer indentation level (bisecting_kmeans.py, line 6)",
     "output_type": "error",
     "traceback": [
      "Traceback \u001b[1;36m(most recent call last)\u001b[0m:\n",
      "  File \u001b[0;32m\"S:\\Anaconda\\lib\\site-packages\\IPython\\core\\interactiveshell.py\"\u001b[0m, line \u001b[0;32m3326\u001b[0m, in \u001b[0;35mrun_code\u001b[0m\n    exec(code_obj, self.user_global_ns, self.user_ns)\n",
      "\u001b[1;36m  File \u001b[1;32m\"<ipython-input-9-423b22254174>\"\u001b[1;36m, line \u001b[1;32m3\u001b[1;36m, in \u001b[1;35m<module>\u001b[1;36m\u001b[0m\n\u001b[1;33m    from bisecting_kmeans import biKMeansClassifier\u001b[0m\n",
      "\u001b[1;36m  File \u001b[1;32m\"S:\\Jupyter Notebook\\QG中期考核\\K-means\\Bi-K-means\\bisecting_kmeans.py\"\u001b[1;36m, line \u001b[1;32m6\u001b[0m\n\u001b[1;33m    def __init__(self, k=3, initCent='random', max_iter=500):\u001b[0m\n\u001b[1;37m                                                             ^\u001b[0m\n\u001b[1;31mIndentationError\u001b[0m\u001b[1;31m:\u001b[0m unindent does not match any outer indentation level\n"
     ]
    }
   ],
   "source": [
    "import pandas as pd\n",
    "import numpy as np\n",
    "from bisecting_kmeans import biKMeansClassifier\n",
    "import matplotlib.pyplot as plt\n",
    "\n",
    "\n",
    "if __name__==\"__main__\":\n",
    "    data_X = pd.read_csv(r\"iris.csv\")\n",
    "    data_X = data_X.drop(data_X.columns[4], axis=1)\n",
    "    data_X = np.array(data_X)\n",
    "    # print(data_X)\n",
    "    \n",
    "    k = 2\n",
    "    # k = 3\n",
    "    clf = biKMeansClassifier(k) # 实例化biKMeansClassifier类\n",
    "    clf.fit(data_X) # 训练模型\n",
    "    cents = clf._centroids\n",
    "    labels = clf._labels\n",
    "    sse = clf._sse\n",
    "    colors = ['b','r','m']\n",
    "    for i in range(k):\n",
    "        index = np.nonzero(labels==i)[0]\n",
    "        # print(index)\n",
    "        x0 = data_X[index, 0]\n",
    "        x1 = data_X[index, 1]\n",
    "        y_i = i\n",
    "        for j in range(len(x0)):\n",
    "            plt.scatter(x0[j], x1[j], color=colors[i])\n",
    "        plt.scatter(cents[i,0], cents[i,1], marker='x', color=colors[i], linewidths=7)\n",
    "    \n",
    "    # plt.title(\"SSE={:.2f}\".format(sse))\n",
    "    print(\"误差平方和为: \", sse)\n",
    "    plt.axis([4.2,8.2,1.8,4.6])\n",
    "    outname = \"./bisecting_kmeans\" + str(k) + \".png\"\n",
    "    plt.savefig(outname)\n",
    "    plt.show()"
   ]
  }
 ],
 "metadata": {
  "kernelspec": {
   "display_name": "Python 3",
   "language": "python",
   "name": "python3"
  },
  "language_info": {
   "codemirror_mode": {
    "name": "ipython",
    "version": 3
   },
   "file_extension": ".py",
   "mimetype": "text/x-python",
   "name": "python",
   "nbconvert_exporter": "python",
   "pygments_lexer": "ipython3",
   "version": "3.7.4"
  }
 },
 "nbformat": 4,
 "nbformat_minor": 2
}
