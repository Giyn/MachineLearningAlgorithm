{
 "cells": [
  {
   "cell_type": "markdown",
   "metadata": {},
   "source": [
    "## 相关设置"
   ]
  },
  {
   "cell_type": "code",
   "execution_count": 1,
   "metadata": {
    "ExecuteTime": {
     "end_time": "2020-04-24T06:46:43.024537Z",
     "start_time": "2020-04-24T06:46:42.593133Z"
    }
   },
   "outputs": [],
   "source": [
    "from IPython.core.interactiveshell import InteractiveShell\n",
    "InteractiveShell.ast_node_interactivity = \"all\" # 一个cell显示多输出\n",
    "\n",
    "import pandas as pd\n",
    "pd.set_option('display.max_rows', 400) # 设置最大显示400行\n",
    "pd.set_option('display.max_columns', 400) # 设置最大显示400列"
   ]
  },
  {
   "cell_type": "markdown",
   "metadata": {},
   "source": [
    "## 读取数据"
   ]
  },
  {
   "cell_type": "code",
   "execution_count": 87,
   "metadata": {
    "ExecuteTime": {
     "end_time": "2020-04-24T07:23:51.455172Z",
     "start_time": "2020-04-24T07:23:51.445197Z"
    }
   },
   "outputs": [],
   "source": [
    "import numpy as np\n",
    "import pandas as pd\n",
    "\n",
    "data = pd.read_csv(\"housing.txt\", sep=\"\\s+\", header=None) # 使用正则表达式进行空格符分割\n",
    "X = np.array(data.iloc[:,[0,1,2,3,4,5,6,7,8,9,10,11,12]]) \n",
    "\n",
    "y = np.array(data.iloc[:,[13]])\n",
    "y = y.reshape([506,]) "
   ]
  },
  {
   "cell_type": "markdown",
   "metadata": {},
   "source": [
    "## 模型训练"
   ]
  },
  {
   "cell_type": "code",
   "execution_count": 84,
   "metadata": {
    "ExecuteTime": {
     "end_time": "2020-04-24T07:22:23.735594Z",
     "start_time": "2020-04-24T07:22:23.729099Z"
    }
   },
   "outputs": [
    {
     "data": {
      "text/plain": [
       "LinearRegression()"
      ]
     },
     "execution_count": 84,
     "metadata": {},
     "output_type": "execute_result"
    }
   ],
   "source": [
    "from ML.model_selection import train_test_split\n",
    "from ML.LinearRegression import LinearRegression\n",
    "\n",
    "X_train, X_test, y_train, y_test = train_test_split(X, y, seed=1250)\n",
    "\n",
    "reg = LinearRegression()\n",
    "reg.fit_normal(X_train, y_train)"
   ]
  },
  {
   "cell_type": "code",
   "execution_count": 86,
   "metadata": {
    "ExecuteTime": {
     "end_time": "2020-04-24T07:23:22.939438Z",
     "start_time": "2020-04-24T07:23:22.936444Z"
    }
   },
   "outputs": [],
   "source": [
    "# print(y_test)\n",
    "# reg.predict(X_test)"
   ]
  },
  {
   "cell_type": "markdown",
   "metadata": {},
   "source": [
    "## 误差分析"
   ]
  },
  {
   "cell_type": "code",
   "execution_count": 85,
   "metadata": {
    "ExecuteTime": {
     "end_time": "2020-04-24T07:22:25.042131Z",
     "start_time": "2020-04-24T07:22:25.027968Z"
    }
   },
   "outputs": [
    {
     "name": "stdout",
     "output_type": "stream",
     "text": [
      "均方误差为: 18.82719744657374\n",
      "均方根误差为: 4.339031855906769\n",
      "平均绝对误差 3.1070116428840118\n",
      "R Squared为: 0.76509066257533\n"
     ]
    }
   ],
   "source": [
    "from ML.metrics import *\n",
    "\n",
    "y_predict = reg.predict(X_test)\n",
    "\n",
    "print(\"均方误差为:\", mean_squared_error(y_test, y_predict))\n",
    "print(\"均方根误差为:\", root_mean_squared_error(y_test, y_predict))\n",
    "print(\"平均绝对误差\", mean_absolute_error(y_test, y_predict))\n",
    "print(\"R Squared为:\", r2_score(y_test, y_predict))"
   ]
  }
 ],
 "metadata": {
  "kernelspec": {
   "display_name": "Python 3",
   "language": "python",
   "name": "python3"
  },
  "language_info": {
   "codemirror_mode": {
    "name": "ipython",
    "version": 3
   },
   "file_extension": ".py",
   "mimetype": "text/x-python",
   "name": "python",
   "nbconvert_exporter": "python",
   "pygments_lexer": "ipython3",
   "version": "3.7.7"
  }
 },
 "nbformat": 4,
 "nbformat_minor": 2
}
